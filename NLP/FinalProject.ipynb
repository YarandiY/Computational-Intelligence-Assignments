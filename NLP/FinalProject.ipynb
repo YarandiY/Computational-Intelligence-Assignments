{
  "nbformat": 4,
  "nbformat_minor": 0,
  "metadata": {
    "colab": {
      "name": "FinalProject (1).ipynb",
      "provenance": [],
      "collapsed_sections": [],
      "toc_visible": true
    },
    "kernelspec": {
      "display_name": "Python 3",
      "name": "python3"
    },
    "widgets": {
      "application/vnd.jupyter.widget-state+json": {
        "4d89cfb566604503b1ef49f9e06c5038": {
          "model_module": "@jupyter-widgets/controls",
          "model_name": "HBoxModel",
          "state": {
            "_view_name": "HBoxView",
            "_dom_classes": [],
            "_model_name": "HBoxModel",
            "_view_module": "@jupyter-widgets/controls",
            "_model_module_version": "1.5.0",
            "_view_count": null,
            "_view_module_version": "1.5.0",
            "box_style": "",
            "layout": "IPY_MODEL_1acc1e0b16e5465790f9086a22ef7cb3",
            "_model_module": "@jupyter-widgets/controls",
            "children": [
              "IPY_MODEL_b544380b317e4514b2d819d45cd59c96",
              "IPY_MODEL_93ecaffe561a41f3bdfe6426f1d72496"
            ]
          }
        },
        "1acc1e0b16e5465790f9086a22ef7cb3": {
          "model_module": "@jupyter-widgets/base",
          "model_name": "LayoutModel",
          "state": {
            "_view_name": "LayoutView",
            "grid_template_rows": null,
            "right": null,
            "justify_content": null,
            "_view_module": "@jupyter-widgets/base",
            "overflow": null,
            "_model_module_version": "1.2.0",
            "_view_count": null,
            "flex_flow": null,
            "width": null,
            "min_width": null,
            "border": null,
            "align_items": null,
            "bottom": null,
            "_model_module": "@jupyter-widgets/base",
            "top": null,
            "grid_column": null,
            "overflow_y": null,
            "overflow_x": null,
            "grid_auto_flow": null,
            "grid_area": null,
            "grid_template_columns": null,
            "flex": null,
            "_model_name": "LayoutModel",
            "justify_items": null,
            "grid_row": null,
            "max_height": null,
            "align_content": null,
            "visibility": null,
            "align_self": null,
            "height": null,
            "min_height": null,
            "padding": null,
            "grid_auto_rows": null,
            "grid_gap": null,
            "max_width": null,
            "order": null,
            "_view_module_version": "1.2.0",
            "grid_template_areas": null,
            "object_position": null,
            "object_fit": null,
            "grid_auto_columns": null,
            "margin": null,
            "display": null,
            "left": null
          }
        },
        "b544380b317e4514b2d819d45cd59c96": {
          "model_module": "@jupyter-widgets/controls",
          "model_name": "FloatProgressModel",
          "state": {
            "_view_name": "ProgressView",
            "style": "IPY_MODEL_731c3f20ebc44876a04b8d937a0610d4",
            "_dom_classes": [],
            "description": "100%",
            "_model_name": "FloatProgressModel",
            "bar_style": "success",
            "max": 6,
            "_view_module": "@jupyter-widgets/controls",
            "_model_module_version": "1.5.0",
            "value": 6,
            "_view_count": null,
            "_view_module_version": "1.5.0",
            "orientation": "horizontal",
            "min": 0,
            "description_tooltip": null,
            "_model_module": "@jupyter-widgets/controls",
            "layout": "IPY_MODEL_c09666f816b643cc999e9e0ba2c882ff"
          }
        },
        "93ecaffe561a41f3bdfe6426f1d72496": {
          "model_module": "@jupyter-widgets/controls",
          "model_name": "HTMLModel",
          "state": {
            "_view_name": "HTMLView",
            "style": "IPY_MODEL_81977f0a87d0432199862d73553c95ff",
            "_dom_classes": [],
            "description": "",
            "_model_name": "HTMLModel",
            "placeholder": "​",
            "_view_module": "@jupyter-widgets/controls",
            "_model_module_version": "1.5.0",
            "value": " 6/6 [00:01&lt;00:00,  4.21it/s]",
            "_view_count": null,
            "_view_module_version": "1.5.0",
            "description_tooltip": null,
            "_model_module": "@jupyter-widgets/controls",
            "layout": "IPY_MODEL_f9ea85e85db042d0b602d0e9e52355e9"
          }
        },
        "731c3f20ebc44876a04b8d937a0610d4": {
          "model_module": "@jupyter-widgets/controls",
          "model_name": "ProgressStyleModel",
          "state": {
            "_view_name": "StyleView",
            "_model_name": "ProgressStyleModel",
            "description_width": "initial",
            "_view_module": "@jupyter-widgets/base",
            "_model_module_version": "1.5.0",
            "_view_count": null,
            "_view_module_version": "1.2.0",
            "bar_color": null,
            "_model_module": "@jupyter-widgets/controls"
          }
        },
        "c09666f816b643cc999e9e0ba2c882ff": {
          "model_module": "@jupyter-widgets/base",
          "model_name": "LayoutModel",
          "state": {
            "_view_name": "LayoutView",
            "grid_template_rows": null,
            "right": null,
            "justify_content": null,
            "_view_module": "@jupyter-widgets/base",
            "overflow": null,
            "_model_module_version": "1.2.0",
            "_view_count": null,
            "flex_flow": null,
            "width": null,
            "min_width": null,
            "border": null,
            "align_items": null,
            "bottom": null,
            "_model_module": "@jupyter-widgets/base",
            "top": null,
            "grid_column": null,
            "overflow_y": null,
            "overflow_x": null,
            "grid_auto_flow": null,
            "grid_area": null,
            "grid_template_columns": null,
            "flex": null,
            "_model_name": "LayoutModel",
            "justify_items": null,
            "grid_row": null,
            "max_height": null,
            "align_content": null,
            "visibility": null,
            "align_self": null,
            "height": null,
            "min_height": null,
            "padding": null,
            "grid_auto_rows": null,
            "grid_gap": null,
            "max_width": null,
            "order": null,
            "_view_module_version": "1.2.0",
            "grid_template_areas": null,
            "object_position": null,
            "object_fit": null,
            "grid_auto_columns": null,
            "margin": null,
            "display": null,
            "left": null
          }
        },
        "81977f0a87d0432199862d73553c95ff": {
          "model_module": "@jupyter-widgets/controls",
          "model_name": "DescriptionStyleModel",
          "state": {
            "_view_name": "StyleView",
            "_model_name": "DescriptionStyleModel",
            "description_width": "",
            "_view_module": "@jupyter-widgets/base",
            "_model_module_version": "1.5.0",
            "_view_count": null,
            "_view_module_version": "1.2.0",
            "_model_module": "@jupyter-widgets/controls"
          }
        },
        "f9ea85e85db042d0b602d0e9e52355e9": {
          "model_module": "@jupyter-widgets/base",
          "model_name": "LayoutModel",
          "state": {
            "_view_name": "LayoutView",
            "grid_template_rows": null,
            "right": null,
            "justify_content": null,
            "_view_module": "@jupyter-widgets/base",
            "overflow": null,
            "_model_module_version": "1.2.0",
            "_view_count": null,
            "flex_flow": null,
            "width": null,
            "min_width": null,
            "border": null,
            "align_items": null,
            "bottom": null,
            "_model_module": "@jupyter-widgets/base",
            "top": null,
            "grid_column": null,
            "overflow_y": null,
            "overflow_x": null,
            "grid_auto_flow": null,
            "grid_area": null,
            "grid_template_columns": null,
            "flex": null,
            "_model_name": "LayoutModel",
            "justify_items": null,
            "grid_row": null,
            "max_height": null,
            "align_content": null,
            "visibility": null,
            "align_self": null,
            "height": null,
            "min_height": null,
            "padding": null,
            "grid_auto_rows": null,
            "grid_gap": null,
            "max_width": null,
            "order": null,
            "_view_module_version": "1.2.0",
            "grid_template_areas": null,
            "object_position": null,
            "object_fit": null,
            "grid_auto_columns": null,
            "margin": null,
            "display": null,
            "left": null
          }
        },
        "28a7a5f322ea4a1b997a5ca4baf528e9": {
          "model_module": "@jupyter-widgets/controls",
          "model_name": "HBoxModel",
          "state": {
            "_view_name": "HBoxView",
            "_dom_classes": [],
            "_model_name": "HBoxModel",
            "_view_module": "@jupyter-widgets/controls",
            "_model_module_version": "1.5.0",
            "_view_count": null,
            "_view_module_version": "1.5.0",
            "box_style": "",
            "layout": "IPY_MODEL_1da767417e15484db708068250a88326",
            "_model_module": "@jupyter-widgets/controls",
            "children": [
              "IPY_MODEL_582c5039363442c3809a3035d4d45bc4",
              "IPY_MODEL_bec5cb05b98f49e7a6aa76bd5a1679f7"
            ]
          }
        },
        "1da767417e15484db708068250a88326": {
          "model_module": "@jupyter-widgets/base",
          "model_name": "LayoutModel",
          "state": {
            "_view_name": "LayoutView",
            "grid_template_rows": null,
            "right": null,
            "justify_content": null,
            "_view_module": "@jupyter-widgets/base",
            "overflow": null,
            "_model_module_version": "1.2.0",
            "_view_count": null,
            "flex_flow": null,
            "width": null,
            "min_width": null,
            "border": null,
            "align_items": null,
            "bottom": null,
            "_model_module": "@jupyter-widgets/base",
            "top": null,
            "grid_column": null,
            "overflow_y": null,
            "overflow_x": null,
            "grid_auto_flow": null,
            "grid_area": null,
            "grid_template_columns": null,
            "flex": null,
            "_model_name": "LayoutModel",
            "justify_items": null,
            "grid_row": null,
            "max_height": null,
            "align_content": null,
            "visibility": null,
            "align_self": null,
            "height": null,
            "min_height": null,
            "padding": null,
            "grid_auto_rows": null,
            "grid_gap": null,
            "max_width": null,
            "order": null,
            "_view_module_version": "1.2.0",
            "grid_template_areas": null,
            "object_position": null,
            "object_fit": null,
            "grid_auto_columns": null,
            "margin": null,
            "display": null,
            "left": null
          }
        },
        "582c5039363442c3809a3035d4d45bc4": {
          "model_module": "@jupyter-widgets/controls",
          "model_name": "FloatProgressModel",
          "state": {
            "_view_name": "ProgressView",
            "style": "IPY_MODEL_112f2d3ca52f4ccbaf748664ac90b516",
            "_dom_classes": [],
            "description": "100%",
            "_model_name": "FloatProgressModel",
            "bar_style": "success",
            "max": 241863,
            "_view_module": "@jupyter-widgets/controls",
            "_model_module_version": "1.5.0",
            "value": 241863,
            "_view_count": null,
            "_view_module_version": "1.5.0",
            "orientation": "horizontal",
            "min": 0,
            "description_tooltip": null,
            "_model_module": "@jupyter-widgets/controls",
            "layout": "IPY_MODEL_ec62c097bb5a481488849dc94ea4cff0"
          }
        },
        "bec5cb05b98f49e7a6aa76bd5a1679f7": {
          "model_module": "@jupyter-widgets/controls",
          "model_name": "HTMLModel",
          "state": {
            "_view_name": "HTMLView",
            "style": "IPY_MODEL_93c58be34d6c417db787e35c2b6c8068",
            "_dom_classes": [],
            "description": "",
            "_model_name": "HTMLModel",
            "placeholder": "​",
            "_view_module": "@jupyter-widgets/controls",
            "_model_module_version": "1.5.0",
            "value": " 241863/241863 [21:02&lt;00:00, 191.54it/s]",
            "_view_count": null,
            "_view_module_version": "1.5.0",
            "description_tooltip": null,
            "_model_module": "@jupyter-widgets/controls",
            "layout": "IPY_MODEL_3c735952a2d346dfa6fe731bdc530fd2"
          }
        },
        "112f2d3ca52f4ccbaf748664ac90b516": {
          "model_module": "@jupyter-widgets/controls",
          "model_name": "ProgressStyleModel",
          "state": {
            "_view_name": "StyleView",
            "_model_name": "ProgressStyleModel",
            "description_width": "initial",
            "_view_module": "@jupyter-widgets/base",
            "_model_module_version": "1.5.0",
            "_view_count": null,
            "_view_module_version": "1.2.0",
            "bar_color": null,
            "_model_module": "@jupyter-widgets/controls"
          }
        },
        "ec62c097bb5a481488849dc94ea4cff0": {
          "model_module": "@jupyter-widgets/base",
          "model_name": "LayoutModel",
          "state": {
            "_view_name": "LayoutView",
            "grid_template_rows": null,
            "right": null,
            "justify_content": null,
            "_view_module": "@jupyter-widgets/base",
            "overflow": null,
            "_model_module_version": "1.2.0",
            "_view_count": null,
            "flex_flow": null,
            "width": null,
            "min_width": null,
            "border": null,
            "align_items": null,
            "bottom": null,
            "_model_module": "@jupyter-widgets/base",
            "top": null,
            "grid_column": null,
            "overflow_y": null,
            "overflow_x": null,
            "grid_auto_flow": null,
            "grid_area": null,
            "grid_template_columns": null,
            "flex": null,
            "_model_name": "LayoutModel",
            "justify_items": null,
            "grid_row": null,
            "max_height": null,
            "align_content": null,
            "visibility": null,
            "align_self": null,
            "height": null,
            "min_height": null,
            "padding": null,
            "grid_auto_rows": null,
            "grid_gap": null,
            "max_width": null,
            "order": null,
            "_view_module_version": "1.2.0",
            "grid_template_areas": null,
            "object_position": null,
            "object_fit": null,
            "grid_auto_columns": null,
            "margin": null,
            "display": null,
            "left": null
          }
        },
        "93c58be34d6c417db787e35c2b6c8068": {
          "model_module": "@jupyter-widgets/controls",
          "model_name": "DescriptionStyleModel",
          "state": {
            "_view_name": "StyleView",
            "_model_name": "DescriptionStyleModel",
            "description_width": "",
            "_view_module": "@jupyter-widgets/base",
            "_model_module_version": "1.5.0",
            "_view_count": null,
            "_view_module_version": "1.2.0",
            "_model_module": "@jupyter-widgets/controls"
          }
        },
        "3c735952a2d346dfa6fe731bdc530fd2": {
          "model_module": "@jupyter-widgets/base",
          "model_name": "LayoutModel",
          "state": {
            "_view_name": "LayoutView",
            "grid_template_rows": null,
            "right": null,
            "justify_content": null,
            "_view_module": "@jupyter-widgets/base",
            "overflow": null,
            "_model_module_version": "1.2.0",
            "_view_count": null,
            "flex_flow": null,
            "width": null,
            "min_width": null,
            "border": null,
            "align_items": null,
            "bottom": null,
            "_model_module": "@jupyter-widgets/base",
            "top": null,
            "grid_column": null,
            "overflow_y": null,
            "overflow_x": null,
            "grid_auto_flow": null,
            "grid_area": null,
            "grid_template_columns": null,
            "flex": null,
            "_model_name": "LayoutModel",
            "justify_items": null,
            "grid_row": null,
            "max_height": null,
            "align_content": null,
            "visibility": null,
            "align_self": null,
            "height": null,
            "min_height": null,
            "padding": null,
            "grid_auto_rows": null,
            "grid_gap": null,
            "max_width": null,
            "order": null,
            "_view_module_version": "1.2.0",
            "grid_template_areas": null,
            "object_position": null,
            "object_fit": null,
            "grid_auto_columns": null,
            "margin": null,
            "display": null,
            "left": null
          }
        },
        "c578ba386e3345f1bec114e6448315d9": {
          "model_module": "@jupyter-widgets/controls",
          "model_name": "HBoxModel",
          "state": {
            "_view_name": "HBoxView",
            "_dom_classes": [],
            "_model_name": "HBoxModel",
            "_view_module": "@jupyter-widgets/controls",
            "_model_module_version": "1.5.0",
            "_view_count": null,
            "_view_module_version": "1.5.0",
            "box_style": "",
            "layout": "IPY_MODEL_381f7cc7e03041ed9b8c806cd0564aaf",
            "_model_module": "@jupyter-widgets/controls",
            "children": [
              "IPY_MODEL_37bf67f0d73045ffb09cc5665bdf8413",
              "IPY_MODEL_1b1b56044d66472c86499d057d728965"
            ]
          }
        },
        "381f7cc7e03041ed9b8c806cd0564aaf": {
          "model_module": "@jupyter-widgets/base",
          "model_name": "LayoutModel",
          "state": {
            "_view_name": "LayoutView",
            "grid_template_rows": null,
            "right": null,
            "justify_content": null,
            "_view_module": "@jupyter-widgets/base",
            "overflow": null,
            "_model_module_version": "1.2.0",
            "_view_count": null,
            "flex_flow": null,
            "width": null,
            "min_width": null,
            "border": null,
            "align_items": null,
            "bottom": null,
            "_model_module": "@jupyter-widgets/base",
            "top": null,
            "grid_column": null,
            "overflow_y": null,
            "overflow_x": null,
            "grid_auto_flow": null,
            "grid_area": null,
            "grid_template_columns": null,
            "flex": null,
            "_model_name": "LayoutModel",
            "justify_items": null,
            "grid_row": null,
            "max_height": null,
            "align_content": null,
            "visibility": null,
            "align_self": null,
            "height": null,
            "min_height": null,
            "padding": null,
            "grid_auto_rows": null,
            "grid_gap": null,
            "max_width": null,
            "order": null,
            "_view_module_version": "1.2.0",
            "grid_template_areas": null,
            "object_position": null,
            "object_fit": null,
            "grid_auto_columns": null,
            "margin": null,
            "display": null,
            "left": null
          }
        },
        "37bf67f0d73045ffb09cc5665bdf8413": {
          "model_module": "@jupyter-widgets/controls",
          "model_name": "FloatProgressModel",
          "state": {
            "_view_name": "ProgressView",
            "style": "IPY_MODEL_a07c90225e694afdacd00af15e9a2826",
            "_dom_classes": [],
            "description": "100%",
            "_model_name": "FloatProgressModel",
            "bar_style": "success",
            "max": 16678,
            "_view_module": "@jupyter-widgets/controls",
            "_model_module_version": "1.5.0",
            "value": 16678,
            "_view_count": null,
            "_view_module_version": "1.5.0",
            "orientation": "horizontal",
            "min": 0,
            "description_tooltip": null,
            "_model_module": "@jupyter-widgets/controls",
            "layout": "IPY_MODEL_c9afab21e9524afb90c768dc50012ba0"
          }
        },
        "1b1b56044d66472c86499d057d728965": {
          "model_module": "@jupyter-widgets/controls",
          "model_name": "HTMLModel",
          "state": {
            "_view_name": "HTMLView",
            "style": "IPY_MODEL_697b21facc704ad6bd37a1d57d9cc5fd",
            "_dom_classes": [],
            "description": "",
            "_model_name": "HTMLModel",
            "placeholder": "​",
            "_view_module": "@jupyter-widgets/controls",
            "_model_module_version": "1.5.0",
            "value": " 16678/16678 [01:01&lt;00:00, 271.38it/s]",
            "_view_count": null,
            "_view_module_version": "1.5.0",
            "description_tooltip": null,
            "_model_module": "@jupyter-widgets/controls",
            "layout": "IPY_MODEL_eebdbaa6344f4bbe880dae5f063132b6"
          }
        },
        "a07c90225e694afdacd00af15e9a2826": {
          "model_module": "@jupyter-widgets/controls",
          "model_name": "ProgressStyleModel",
          "state": {
            "_view_name": "StyleView",
            "_model_name": "ProgressStyleModel",
            "description_width": "initial",
            "_view_module": "@jupyter-widgets/base",
            "_model_module_version": "1.5.0",
            "_view_count": null,
            "_view_module_version": "1.2.0",
            "bar_color": null,
            "_model_module": "@jupyter-widgets/controls"
          }
        },
        "c9afab21e9524afb90c768dc50012ba0": {
          "model_module": "@jupyter-widgets/base",
          "model_name": "LayoutModel",
          "state": {
            "_view_name": "LayoutView",
            "grid_template_rows": null,
            "right": null,
            "justify_content": null,
            "_view_module": "@jupyter-widgets/base",
            "overflow": null,
            "_model_module_version": "1.2.0",
            "_view_count": null,
            "flex_flow": null,
            "width": null,
            "min_width": null,
            "border": null,
            "align_items": null,
            "bottom": null,
            "_model_module": "@jupyter-widgets/base",
            "top": null,
            "grid_column": null,
            "overflow_y": null,
            "overflow_x": null,
            "grid_auto_flow": null,
            "grid_area": null,
            "grid_template_columns": null,
            "flex": null,
            "_model_name": "LayoutModel",
            "justify_items": null,
            "grid_row": null,
            "max_height": null,
            "align_content": null,
            "visibility": null,
            "align_self": null,
            "height": null,
            "min_height": null,
            "padding": null,
            "grid_auto_rows": null,
            "grid_gap": null,
            "max_width": null,
            "order": null,
            "_view_module_version": "1.2.0",
            "grid_template_areas": null,
            "object_position": null,
            "object_fit": null,
            "grid_auto_columns": null,
            "margin": null,
            "display": null,
            "left": null
          }
        },
        "697b21facc704ad6bd37a1d57d9cc5fd": {
          "model_module": "@jupyter-widgets/controls",
          "model_name": "DescriptionStyleModel",
          "state": {
            "_view_name": "StyleView",
            "_model_name": "DescriptionStyleModel",
            "description_width": "",
            "_view_module": "@jupyter-widgets/base",
            "_model_module_version": "1.5.0",
            "_view_count": null,
            "_view_module_version": "1.2.0",
            "_model_module": "@jupyter-widgets/controls"
          }
        },
        "eebdbaa6344f4bbe880dae5f063132b6": {
          "model_module": "@jupyter-widgets/base",
          "model_name": "LayoutModel",
          "state": {
            "_view_name": "LayoutView",
            "grid_template_rows": null,
            "right": null,
            "justify_content": null,
            "_view_module": "@jupyter-widgets/base",
            "overflow": null,
            "_model_module_version": "1.2.0",
            "_view_count": null,
            "flex_flow": null,
            "width": null,
            "min_width": null,
            "border": null,
            "align_items": null,
            "bottom": null,
            "_model_module": "@jupyter-widgets/base",
            "top": null,
            "grid_column": null,
            "overflow_y": null,
            "overflow_x": null,
            "grid_auto_flow": null,
            "grid_area": null,
            "grid_template_columns": null,
            "flex": null,
            "_model_name": "LayoutModel",
            "justify_items": null,
            "grid_row": null,
            "max_height": null,
            "align_content": null,
            "visibility": null,
            "align_self": null,
            "height": null,
            "min_height": null,
            "padding": null,
            "grid_auto_rows": null,
            "grid_gap": null,
            "max_width": null,
            "order": null,
            "_view_module_version": "1.2.0",
            "grid_template_areas": null,
            "object_position": null,
            "object_fit": null,
            "grid_auto_columns": null,
            "margin": null,
            "display": null,
            "left": null
          }
        }
      }
    }
  },
  "cells": [
    {
      "cell_type": "code",
      "metadata": {
        "colab": {
          "base_uri": "https://localhost:8080/"
        },
        "id": "nRb6bFlRQPiC",
        "outputId": "9757d391-1c94-4d35-a715-dd79130b68b9"
      },
      "source": [
        "from google.colab import drive\r\n",
        "drive.mount('/content/drive')"
      ],
      "execution_count": null,
      "outputs": [
        {
          "output_type": "stream",
          "text": [
            "Go to this URL in a browser: https://accounts.google.com/o/oauth2/auth?client_id=947318989803-6bn6qk8qdgf4n4g3pfee6491hc0brc4i.apps.googleusercontent.com&redirect_uri=urn%3aietf%3awg%3aoauth%3a2.0%3aoob&scope=email%20https%3a%2f%2fwww.googleapis.com%2fauth%2fdocs.test%20https%3a%2f%2fwww.googleapis.com%2fauth%2fdrive%20https%3a%2f%2fwww.googleapis.com%2fauth%2fdrive.photos.readonly%20https%3a%2f%2fwww.googleapis.com%2fauth%2fpeopleapi.readonly%20https%3a%2f%2fwww.googleapis.com%2fauth%2fdrive.activity.readonly&response_type=code\n",
            "\n",
            "Enter your authorization code:\n",
            "4/1AY0e-g6pp3zZn8URA610i0BnyyABMlo-1Jxb_DfE_ZMJASeB0nMSpS70HkY\n",
            "Mounted at /content/drive\n"
          ],
          "name": "stdout"
        }
      ]
    },
    {
      "cell_type": "code",
      "metadata": {
        "colab": {
          "base_uri": "https://localhost:8080/"
        },
        "id": "gv6V-Myev0tF",
        "outputId": "629ef164-45a6-4536-9f20-9be85c16cec5"
      },
      "source": [
        "!sudo apt install python-pip\r\n",
        "!sudo pip install hazm\r\n",
        "!pip install tqdm"
      ],
      "execution_count": null,
      "outputs": [
        {
          "output_type": "stream",
          "text": [
            "Reading package lists... Done\n",
            "Building dependency tree       \n",
            "Reading state information... Done\n",
            "The following additional packages will be installed:\n",
            "  libpython-all-dev python-all python-all-dev python-asn1crypto\n",
            "  python-cffi-backend python-crypto python-cryptography python-dbus\n",
            "  python-enum34 python-gi python-idna python-ipaddress python-keyring\n",
            "  python-keyrings.alt python-pip-whl python-pkg-resources python-secretstorage\n",
            "  python-setuptools python-six python-wheel python-xdg\n",
            "Suggested packages:\n",
            "  python-crypto-doc python-cryptography-doc python-cryptography-vectors\n",
            "  python-dbus-dbg python-dbus-doc python-enum34-doc python-gi-cairo\n",
            "  gnome-keyring libkf5wallet-bin gir1.2-gnomekeyring-1.0 python-fs\n",
            "  python-gdata python-keyczar python-secretstorage-doc python-setuptools-doc\n",
            "The following NEW packages will be installed:\n",
            "  libpython-all-dev python-all python-all-dev python-asn1crypto\n",
            "  python-cffi-backend python-crypto python-cryptography python-dbus\n",
            "  python-enum34 python-gi python-idna python-ipaddress python-keyring\n",
            "  python-keyrings.alt python-pip python-pip-whl python-pkg-resources\n",
            "  python-secretstorage python-setuptools python-six python-wheel python-xdg\n",
            "0 upgraded, 22 newly installed, 0 to remove and 16 not upgraded.\n",
            "Need to get 3,431 kB of archives.\n",
            "After this operation, 10.8 MB of additional disk space will be used.\n",
            "Get:1 http://archive.ubuntu.com/ubuntu bionic/main amd64 libpython-all-dev amd64 2.7.15~rc1-1 [1,092 B]\n",
            "Get:2 http://archive.ubuntu.com/ubuntu bionic/main amd64 python-all amd64 2.7.15~rc1-1 [1,076 B]\n",
            "Get:3 http://archive.ubuntu.com/ubuntu bionic/main amd64 python-all-dev amd64 2.7.15~rc1-1 [1,100 B]\n",
            "Get:4 http://archive.ubuntu.com/ubuntu bionic/main amd64 python-asn1crypto all 0.24.0-1 [72.7 kB]\n",
            "Get:5 http://archive.ubuntu.com/ubuntu bionic/main amd64 python-cffi-backend amd64 1.11.5-1 [63.4 kB]\n",
            "Get:6 http://archive.ubuntu.com/ubuntu bionic/main amd64 python-crypto amd64 2.6.1-8ubuntu2 [244 kB]\n",
            "Get:7 http://archive.ubuntu.com/ubuntu bionic/main amd64 python-enum34 all 1.1.6-2 [34.8 kB]\n",
            "Get:8 http://archive.ubuntu.com/ubuntu bionic/main amd64 python-idna all 2.6-1 [32.4 kB]\n",
            "Get:9 http://archive.ubuntu.com/ubuntu bionic/main amd64 python-ipaddress all 1.0.17-1 [18.2 kB]\n",
            "Get:10 http://archive.ubuntu.com/ubuntu bionic/main amd64 python-six all 1.11.0-2 [11.3 kB]\n",
            "Get:11 http://archive.ubuntu.com/ubuntu bionic-updates/main amd64 python-cryptography amd64 2.1.4-1ubuntu1.4 [276 kB]\n",
            "Get:12 http://archive.ubuntu.com/ubuntu bionic/main amd64 python-dbus amd64 1.2.6-1 [90.2 kB]\n",
            "Get:13 http://archive.ubuntu.com/ubuntu bionic-updates/main amd64 python-gi amd64 3.26.1-2ubuntu1 [197 kB]\n",
            "Get:14 http://archive.ubuntu.com/ubuntu bionic/main amd64 python-secretstorage all 2.3.1-2 [11.8 kB]\n",
            "Get:15 http://archive.ubuntu.com/ubuntu bionic/main amd64 python-keyring all 10.6.0-1 [30.6 kB]\n",
            "Get:16 http://archive.ubuntu.com/ubuntu bionic/main amd64 python-keyrings.alt all 3.0-1 [16.7 kB]\n",
            "Get:17 http://archive.ubuntu.com/ubuntu bionic-updates/universe amd64 python-pip-whl all 9.0.1-2.3~ubuntu1.18.04.4 [1,653 kB]\n",
            "Get:18 http://archive.ubuntu.com/ubuntu bionic-updates/universe amd64 python-pip all 9.0.1-2.3~ubuntu1.18.04.4 [151 kB]\n",
            "Get:19 http://archive.ubuntu.com/ubuntu bionic/main amd64 python-pkg-resources all 39.0.1-2 [128 kB]\n",
            "Get:20 http://archive.ubuntu.com/ubuntu bionic/main amd64 python-setuptools all 39.0.1-2 [329 kB]\n",
            "Get:21 http://archive.ubuntu.com/ubuntu bionic/universe amd64 python-wheel all 0.30.0-0.2 [36.4 kB]\n",
            "Get:22 http://archive.ubuntu.com/ubuntu bionic/universe amd64 python-xdg all 0.25-4ubuntu1 [31.3 kB]\n",
            "Fetched 3,431 kB in 1s (3,253 kB/s)\n",
            "debconf: unable to initialize frontend: Dialog\n",
            "debconf: (No usable dialog-like program is installed, so the dialog based frontend cannot be used. at /usr/share/perl5/Debconf/FrontEnd/Dialog.pm line 76, <> line 22.)\n",
            "debconf: falling back to frontend: Readline\n",
            "debconf: unable to initialize frontend: Readline\n",
            "debconf: (This frontend requires a controlling tty.)\n",
            "debconf: falling back to frontend: Teletype\n",
            "dpkg-preconfigure: unable to re-open stdin: \n",
            "Selecting previously unselected package libpython-all-dev:amd64.\n",
            "(Reading database ... 145483 files and directories currently installed.)\n",
            "Preparing to unpack .../00-libpython-all-dev_2.7.15~rc1-1_amd64.deb ...\n",
            "Unpacking libpython-all-dev:amd64 (2.7.15~rc1-1) ...\n",
            "Selecting previously unselected package python-all.\n",
            "Preparing to unpack .../01-python-all_2.7.15~rc1-1_amd64.deb ...\n",
            "Unpacking python-all (2.7.15~rc1-1) ...\n",
            "Selecting previously unselected package python-all-dev.\n",
            "Preparing to unpack .../02-python-all-dev_2.7.15~rc1-1_amd64.deb ...\n",
            "Unpacking python-all-dev (2.7.15~rc1-1) ...\n",
            "Selecting previously unselected package python-asn1crypto.\n",
            "Preparing to unpack .../03-python-asn1crypto_0.24.0-1_all.deb ...\n",
            "Unpacking python-asn1crypto (0.24.0-1) ...\n",
            "Selecting previously unselected package python-cffi-backend.\n",
            "Preparing to unpack .../04-python-cffi-backend_1.11.5-1_amd64.deb ...\n",
            "Unpacking python-cffi-backend (1.11.5-1) ...\n",
            "Selecting previously unselected package python-crypto.\n",
            "Preparing to unpack .../05-python-crypto_2.6.1-8ubuntu2_amd64.deb ...\n",
            "Unpacking python-crypto (2.6.1-8ubuntu2) ...\n",
            "Selecting previously unselected package python-enum34.\n",
            "Preparing to unpack .../06-python-enum34_1.1.6-2_all.deb ...\n",
            "Unpacking python-enum34 (1.1.6-2) ...\n",
            "Selecting previously unselected package python-idna.\n",
            "Preparing to unpack .../07-python-idna_2.6-1_all.deb ...\n",
            "Unpacking python-idna (2.6-1) ...\n",
            "Selecting previously unselected package python-ipaddress.\n",
            "Preparing to unpack .../08-python-ipaddress_1.0.17-1_all.deb ...\n",
            "Unpacking python-ipaddress (1.0.17-1) ...\n",
            "Selecting previously unselected package python-six.\n",
            "Preparing to unpack .../09-python-six_1.11.0-2_all.deb ...\n",
            "Unpacking python-six (1.11.0-2) ...\n",
            "Selecting previously unselected package python-cryptography.\n",
            "Preparing to unpack .../10-python-cryptography_2.1.4-1ubuntu1.4_amd64.deb ...\n",
            "Unpacking python-cryptography (2.1.4-1ubuntu1.4) ...\n",
            "Selecting previously unselected package python-dbus.\n",
            "Preparing to unpack .../11-python-dbus_1.2.6-1_amd64.deb ...\n",
            "Unpacking python-dbus (1.2.6-1) ...\n",
            "Selecting previously unselected package python-gi.\n",
            "Preparing to unpack .../12-python-gi_3.26.1-2ubuntu1_amd64.deb ...\n",
            "Unpacking python-gi (3.26.1-2ubuntu1) ...\n",
            "Selecting previously unselected package python-secretstorage.\n",
            "Preparing to unpack .../13-python-secretstorage_2.3.1-2_all.deb ...\n",
            "Unpacking python-secretstorage (2.3.1-2) ...\n",
            "Selecting previously unselected package python-keyring.\n",
            "Preparing to unpack .../14-python-keyring_10.6.0-1_all.deb ...\n",
            "Unpacking python-keyring (10.6.0-1) ...\n",
            "Selecting previously unselected package python-keyrings.alt.\n",
            "Preparing to unpack .../15-python-keyrings.alt_3.0-1_all.deb ...\n",
            "Unpacking python-keyrings.alt (3.0-1) ...\n",
            "Selecting previously unselected package python-pip-whl.\n",
            "Preparing to unpack .../16-python-pip-whl_9.0.1-2.3~ubuntu1.18.04.4_all.deb ...\n",
            "Unpacking python-pip-whl (9.0.1-2.3~ubuntu1.18.04.4) ...\n",
            "Selecting previously unselected package python-pip.\n",
            "Preparing to unpack .../17-python-pip_9.0.1-2.3~ubuntu1.18.04.4_all.deb ...\n",
            "Unpacking python-pip (9.0.1-2.3~ubuntu1.18.04.4) ...\n",
            "Selecting previously unselected package python-pkg-resources.\n",
            "Preparing to unpack .../18-python-pkg-resources_39.0.1-2_all.deb ...\n",
            "Unpacking python-pkg-resources (39.0.1-2) ...\n",
            "Selecting previously unselected package python-setuptools.\n",
            "Preparing to unpack .../19-python-setuptools_39.0.1-2_all.deb ...\n",
            "Unpacking python-setuptools (39.0.1-2) ...\n",
            "Selecting previously unselected package python-wheel.\n",
            "Preparing to unpack .../20-python-wheel_0.30.0-0.2_all.deb ...\n",
            "Unpacking python-wheel (0.30.0-0.2) ...\n",
            "Selecting previously unselected package python-xdg.\n",
            "Preparing to unpack .../21-python-xdg_0.25-4ubuntu1_all.deb ...\n",
            "Unpacking python-xdg (0.25-4ubuntu1) ...\n",
            "Setting up python-idna (2.6-1) ...\n",
            "Setting up python-pip-whl (9.0.1-2.3~ubuntu1.18.04.4) ...\n",
            "Setting up python-asn1crypto (0.24.0-1) ...\n",
            "Setting up python-crypto (2.6.1-8ubuntu2) ...\n",
            "Setting up python-wheel (0.30.0-0.2) ...\n",
            "Setting up libpython-all-dev:amd64 (2.7.15~rc1-1) ...\n",
            "Setting up python-pkg-resources (39.0.1-2) ...\n",
            "Setting up python-cffi-backend (1.11.5-1) ...\n",
            "Setting up python-gi (3.26.1-2ubuntu1) ...\n",
            "Setting up python-six (1.11.0-2) ...\n",
            "Setting up python-enum34 (1.1.6-2) ...\n",
            "Setting up python-dbus (1.2.6-1) ...\n",
            "Setting up python-ipaddress (1.0.17-1) ...\n",
            "Setting up python-pip (9.0.1-2.3~ubuntu1.18.04.4) ...\n",
            "Setting up python-all (2.7.15~rc1-1) ...\n",
            "Setting up python-xdg (0.25-4ubuntu1) ...\n",
            "Setting up python-setuptools (39.0.1-2) ...\n",
            "Setting up python-keyrings.alt (3.0-1) ...\n",
            "Setting up python-all-dev (2.7.15~rc1-1) ...\n",
            "Setting up python-cryptography (2.1.4-1ubuntu1.4) ...\n",
            "Setting up python-secretstorage (2.3.1-2) ...\n",
            "Setting up python-keyring (10.6.0-1) ...\n",
            "Processing triggers for man-db (2.8.3-2ubuntu0.1) ...\n",
            "Collecting hazm\n",
            "\u001b[?25l  Downloading https://files.pythonhosted.org/packages/22/13/5a7074bc11d20dbbb46239349ac3f85f7edc148b4cf68e9b8c2f8263830c/hazm-0.7.0-py3-none-any.whl (316kB)\n",
            "\u001b[K     |████████████████████████████████| 317kB 4.3MB/s \n",
            "\u001b[?25hCollecting nltk==3.3\n",
            "\u001b[?25l  Downloading https://files.pythonhosted.org/packages/50/09/3b1755d528ad9156ee7243d52aa5cd2b809ef053a0f31b53d92853dd653a/nltk-3.3.0.zip (1.4MB)\n",
            "\u001b[K     |████████████████████████████████| 1.4MB 18.3MB/s \n",
            "\u001b[?25hCollecting libwapiti>=0.2.1; platform_system != \"Windows\"\n",
            "\u001b[?25l  Downloading https://files.pythonhosted.org/packages/bc/0f/1c9b49bb49821b5856a64ea6fac8d96a619b9f291d1f06999ea98a32c89c/libwapiti-0.2.1.tar.gz (233kB)\n",
            "\u001b[K     |████████████████████████████████| 235kB 43.2MB/s \n",
            "\u001b[?25hRequirement already satisfied: six in /usr/local/lib/python3.6/dist-packages (from nltk==3.3->hazm) (1.15.0)\n",
            "Building wheels for collected packages: nltk, libwapiti\n",
            "  Building wheel for nltk (setup.py) ... \u001b[?25l\u001b[?25hdone\n",
            "  Created wheel for nltk: filename=nltk-3.3-cp36-none-any.whl size=1394471 sha256=32f60fc45c774e25234424175221bcf3795b21a739874d4dc3150922223c64aa\n",
            "  Stored in directory: /root/.cache/pip/wheels/d1/ab/40/3bceea46922767e42986aef7606a600538ca80de6062dc266c\n",
            "  Building wheel for libwapiti (setup.py) ... \u001b[?25l\u001b[?25hdone\n",
            "  Created wheel for libwapiti: filename=libwapiti-0.2.1-cp36-cp36m-linux_x86_64.whl size=154551 sha256=f82b583b124417ab2da9c5cb81515b05681da62fb12f67d9b77977274fe8a337\n",
            "  Stored in directory: /root/.cache/pip/wheels/66/15/54/4510dce8bb958b1cdd2c47425cbd1e1eecc0480ac9bb1fb9ab\n",
            "Successfully built nltk libwapiti\n",
            "Installing collected packages: nltk, libwapiti, hazm\n",
            "  Found existing installation: nltk 3.2.5\n",
            "    Uninstalling nltk-3.2.5:\n",
            "      Successfully uninstalled nltk-3.2.5\n",
            "Successfully installed hazm-0.7.0 libwapiti-0.2.1 nltk-3.3\n",
            "Requirement already satisfied: tqdm in /usr/local/lib/python3.6/dist-packages (4.41.1)\n"
          ],
          "name": "stdout"
        }
      ]
    },
    {
      "cell_type": "code",
      "metadata": {
        "id": "na9plhM1TRnR"
      },
      "source": [
        "import pandas as pd\r\n",
        "from hazm import *\r\n",
        "import sklearn.model_selection\r\n",
        "import numpy as np\r\n",
        "from sklearn.feature_extraction.text import CountVectorizer, TfidfTransformer, TfidfVectorizer\r\n",
        "import re\r\n",
        "import itertools\r\n",
        "from sklearn.pipeline import Pipeline\r\n",
        "import csv\r\n",
        "from tqdm import tqdm_notebook as tqdm\r\n",
        "\r\n",
        "from sklearn.naive_bayes import MultinomialNB\r\n",
        "from sklearn.metrics.pairwise import cosine_similarity\r\n",
        "from sklearn import linear_model\r\n"
      ],
      "execution_count": null,
      "outputs": []
    },
    {
      "cell_type": "code",
      "metadata": {
        "id": "qq1RFaCB7xFe"
      },
      "source": [
        "train_url = 'drive/My Drive/train.csv'\r\n",
        "test_url = 'drive/My Drive/test.csv'\r\n",
        "result_url = \"drive/My Drive/\"\r\n",
        "stopwords_url = 'drive/My Drive/stopwords.txt'"
      ],
      "execution_count": null,
      "outputs": []
    },
    {
      "cell_type": "code",
      "metadata": {
        "id": "4dzz3wXr7A8v"
      },
      "source": [
        "def save_result(results, name):\r\n",
        "  f = open(result_url+name, \"w\")\r\n",
        "  writer = csv.writer(f)\r\n",
        "  writer.writerow([\"Id\", \"Category\"])\r\n",
        "  for i in range(len(test_df)):\r\n",
        "    writer.writerow([i, results[i]])\r\n",
        "  f.close()"
      ],
      "execution_count": null,
      "outputs": []
    },
    {
      "cell_type": "code",
      "metadata": {
        "id": "0vzPcUZg7YEf"
      },
      "source": [
        "def read_data(url):\r\n",
        "  df = pd.read_csv(url, engine='python',encoding='utf-8', error_bad_lines=False)\r\n",
        "  df.head()\r\n",
        "  return df"
      ],
      "execution_count": null,
      "outputs": []
    },
    {
      "cell_type": "code",
      "metadata": {
        "id": "-qs1t2ow9cJG",
        "colab": {
          "base_uri": "https://localhost:8080/"
        },
        "outputId": "3d636bba-d410-4813-bf37-aa49f076ed5c"
      },
      "source": [
        "def stopwords():\r\n",
        "  # stopwords = stopwords_list()\r\n",
        "  text_file = open(stopwords_url, \"r\")\r\n",
        "  sw = text_file.read().split('\\n')\r\n",
        "  return sw\r\n",
        "\r\n",
        "print(stopwords())"
      ],
      "execution_count": null,
      "outputs": [
        {
          "output_type": "stream",
          "text": [
            "['\\ufeff!', '\"', '#', '%', '\\\\', \"'\", '(', ')', '*', '+', ',', '-', '.', '/', ':', ';', '<', '=', '>', '\\\\\\\\', '//', '?', '@', '\\\\', '[', '\\\\', ']', '^', '_', '`', '{', '|', '}', '~', '1', '2', '3', '4', '5', '6', '7', '8', '9', '0', '’', '«', '»', '”', '“', '′', '‘', '،', '\\\\\\\\', 'و', 'در', 'به', 'از', 'که', 'این', 'را', 'با', 'است', 'برای', 'آن', 'یک', 'خود', 'تا', 'کرد', 'بر', 'هم', 'نیز', 'گفت', 'می\\u200cشود', 'وی', 'شد', 'دارد', 'ما', 'اما', 'یا', 'شده', 'باید', 'هر', 'آنها', 'بود', 'او', 'دیگر', 'دو', 'مورد', 'می\\u200cکند', 'شود', 'کند', 'وجود', 'بین', 'پیش', 'شده_است', 'پس', 'نظر', 'اگر', 'همه', 'یکی', 'حال', 'هستند', 'من', 'کنند', 'گردد', 'حتما', 'سلام', 'دلم', 'دیدن', 'بزنید', 'صحبتهای', 'عنوان', 'معناست', 'خبرهای', 'شب', 'نیست', 'باشد', 'چه', 'عده\\u200cای', 'علیه\\u200cالسلام', 'باشیم', 'فعلی', 'صد', 'ان', 'انها', 'جناب', 'جناب\\u200cاقای', 'میشود', 'عده', 'بنا', 'دکتر', 'عرض', 'بایستی', 'نمایند', 'دست', 'بیش', 'روز\\u200cگذشته', 'اشاره', 'میگن', 'کنه', 'مارو', 'اونم', 'اینم', 'فک', 'کردین', 'بابا', 'بدید', 'اخه', 'باشن', 'هستن', 'اومده', 'نباشه', 'خدایی', 'دارین', 'میشن', 'یکم', 'هستین', 'هستن', 'مارو', 'کنن', 'ادم', 'اینه', 'اقای', 'بی', 'می', 'بخش', 'می\\u200cکنند', 'همین', 'افزود', 'هایی', 'های', 'ای', 'نمی', 'ام', 'دارند', 'راه', 'همچنین', 'روی', 'داد', 'بیشتر', 'بسیار', 'سه', 'داشت', 'چند', 'سوی', 'تنها', 'هیچ', 'میان', 'اینکه', 'شدن', 'بعد', 'جدید', 'ولی', 'حتی', 'کردن', 'برخی', 'کردند', 'می\\u200cدهد', 'اول', 'نه', 'کرده_است', 'نسبت', 'شما', 'چنین', 'طور', 'افراد', 'تمام', 'درباره', 'بار', 'بسیاری', 'می\\u200cتواند', 'کرده', 'چون', 'ندارد', 'دوم', 'طی', 'حدود', 'همان', 'بدون', 'البته', 'آنان', 'می\\u200cگوید', 'دیگری', 'خواهد_شد', 'کنیم', 'قابل', 'یعنی', 'رشد', 'می\\u200cتوان', 'وارد', 'کل', 'ویژه', 'قبل', 'براساس', 'نیاز', 'گذاری', 'هنوز', 'لازم', 'سازی', 'بوده_است', 'چرا', 'می\\u200cشوند', 'وقتی', 'گرفت', 'کم', 'جای', 'حالی', 'تغییر', 'پیدا', 'اکنون', 'تحت', 'باعث', 'مدت', 'فقط', 'زیادی', 'تعداد', 'آیا', 'بیان', 'رو', 'شدند', 'عدم', 'کرده_اند', 'بودن', 'نوع', 'بلکه', 'جاری', 'دهد', 'برابر', 'مهم', 'بوده', 'اخیر', 'مربوط', 'امر', 'زیر', 'گیری', 'شاید', 'خصوص', 'آقای', 'اثر', 'کننده', 'بودند', 'فکر', 'کنار', 'اولین', 'سوم', 'سایر', 'کنید', 'ضمن', 'مانند', 'باز', 'می\\u200cگیرد', 'ممکن', 'حل', 'دارای', 'پی', 'مثل', 'می\\u200cرسد', 'اجرا', 'دور', 'منظور', 'کسی', 'موجب', 'طول', 'امکان', 'آنچه', 'تعیین', 'گفته', 'شوند', 'جمع', 'خیلی', 'علاوه', 'گونه', 'تاکنون', 'رسید', 'ساله', 'گرفته', 'شده_اند', 'علت', 'چهار', 'داشته_باشد', 'خواهد_بود', 'طرف', 'تهیه', 'تبدیل', 'مناسب', 'زیرا', 'مشخص', 'می\\u200cتوانند', 'نزدیک', 'جریان', 'روند', 'بنابراین', 'می\\u200cدهند', 'یافت', 'نخستین', 'بالا', 'پنج', 'ریزی', 'عالی', 'چیزی', 'نخست', 'بیشتری', 'ترتیب', 'شده_بود', 'شروع', 'فرد', 'می\\u200cرود', 'دهند', 'آخرین', 'دادن', 'بهترین', 'شامل', 'گیرد', 'بخشی', 'باشند', 'تمامی', 'بهتر', 'داده_است', 'حد', 'نبود', 'کسانی', 'می\\u200cکرد', 'داریم', 'می\\u200cباشد', 'دانست', 'ناشی', 'داشتند', 'دهه', 'می\\u200cشد', 'ایشان', 'آنجا', 'گرفته_است', 'دچار', 'می\\u200cآید', 'لحاظ', 'آنکه', 'داده', 'بعضی', 'هستیم', 'اند', 'برداری', 'نباید', 'می\\u200cکنیم', 'نشست', 'سهم', 'همیشه', 'آمد', 'اش', 'وگو', 'می\\u200cکنم', 'حداقل', 'طبق', 'جا', 'خواهد_کرد', 'نوعی', 'چگونه', 'رفت', 'هنگام', 'فوق', 'روش', 'ندارند', 'سعی', 'بندی', 'شمار', 'کلی', 'کافی', 'مواجه', 'همچنان', 'زیاد', 'سمت', 'کوچک', 'داشته_است', 'چیز', 'پشت', 'آورد', 'حالا', 'روبه', 'سال\\u200cهای', 'دادند', 'می\\u200cکردند', 'عهده', 'نیمه', 'جایی', 'دیگران', 'سی', 'بروز', 'یکدیگر', 'آمده_است', 'جز', 'کنم', 'سپس', 'کنندگان', 'خودش', 'همواره', 'یافته', 'شان', 'صرف', 'نمی\\u200cشود', 'رسیدن', 'چهارم', 'یابد', 'متر', 'ساز', 'داشته', 'کرده_بود', 'باره', 'نحوه', 'کردم', 'تو', 'شخصی', 'داشته_باشند', 'محسوب', 'پخش', 'کمی', 'سراسر', 'کاملا', 'داشتن', 'نظیر', 'آمده', 'گروهی', 'فردی', 'ع', 'ص', 'همچون', 'خویش', 'کدام', 'دسته', 'سبب', 'عین', 'آوری', 'متاسفانه', 'بیرون', 'دار', 'ابتدا', 'شش', 'افرادی', 'می\\u200cگویند', 'سالهای', 'درون', 'نیستند', 'یافته_است', 'پر', 'خاطرنشان', 'گاه', 'جمعی', 'اغلب', 'دوباره', 'می\\u200cیابد', 'لذا', 'گردد', 'اینجا', 'ها', '-', '_', 'خواهد', 'قرار', 'امروز', 'سال', 'انجام', 'تیم', 'شرکت', 'نفر', 'صورت', 'ماه', 'توسط', 'کار', 'فارس', 'پایان', 'ادامه', 'بزرگ', 'دلیل', 'آغاز', 'فوری', 'زمان', 'منتشر', 'بررسی', 'امور', 'کانال', 'نشان', 'دنبال', 'استفاده', 'فردا', 'علی', 'نام', 'افزایش', 'ارسال', 'صبح', 'ببینید', 'جلسه', 'شنبه', 'پیام', 'پروکسی', 'تر', 'هزار', '___', '__', 'دماوند']\n"
          ],
          "name": "stdout"
        }
      ]
    },
    {
      "cell_type": "markdown",
      "metadata": {
        "id": "hRSJXBXq8kAy"
      },
      "source": [
        "# Data : train\r\n",
        "\r\n",
        " "
      ]
    },
    {
      "cell_type": "code",
      "metadata": {
        "colab": {
          "base_uri": "https://localhost:8080/"
        },
        "id": "OFk8pBl2UGVi",
        "outputId": "4297764b-fdf4-46c8-b7d9-fd49628b3b17"
      },
      "source": [
        "df = read_data(train_url)\r\n",
        "x_train = df[\"Text\"]\r\n",
        "categories = np.array(list(set(df[\"Category\"]))) \r\n",
        "y_train = df[\"Category\"]\r\n",
        "y_train_hot = pd.get_dummies(y_train)\r\n",
        "print(len(y_train))\r\n",
        "print(len(x_train))\r\n",
        "print(y_train)\r\n",
        "# x_train,x_validation,y_train,y_validation=sklearn.model_selection.train_test_split(x_train, y_train, test_size=0.15)"
      ],
      "execution_count": null,
      "outputs": [
        {
          "output_type": "stream",
          "text": [
            "150096\n",
            "150096\n",
            "0              Science and Culture\n",
            "1                            Sport\n",
            "2                          Economy\n",
            "3         Miscellaneous.World News\n",
            "4                            Sport\n",
            "                    ...           \n",
            "150091               Miscellaneous\n",
            "150092    Miscellaneous.Happenings\n",
            "150093         Miscellaneous.Urban\n",
            "150094         Science and Culture\n",
            "150095                    Politics\n",
            "Name: Category, Length: 150096, dtype: object\n"
          ],
          "name": "stdout"
        }
      ]
    },
    {
      "cell_type": "markdown",
      "metadata": {
        "id": "fEjnqHAQwWJ4"
      },
      "source": [
        "# Preprocessing\r\n"
      ]
    },
    {
      "cell_type": "code",
      "metadata": {
        "id": "LdHkJo89qpT_"
      },
      "source": [
        "def information(df):\r\n",
        "  number_of_each_categories = {}\r\n",
        "  for c in categories :\r\n",
        "    index = df.index[df[\"Category\"] == c].tolist()\r\n",
        "    number_of_rows = len(index)\r\n",
        "    number_of_each_categories[c] = number_of_rows\r\n",
        "  max_value = sum(number_of_each_categories.values())/len(number_of_each_categories.values())\r\n",
        "  for c in categories:\r\n",
        "    if number_of_each_categories[c] >= max_value:\r\n",
        "      continue\r\n",
        "    tmp = df['Category'] == c\r\n",
        "    indexes = df[tmp]\r\n",
        "    n = max_value - number_of_each_categories[c]\r\n",
        "    nn = int(n/len(indexes))\r\n",
        "    df = df.append([indexes]*nn, ignore_index=True)\r\n",
        "    nn = n - nn\r\n",
        "    number_of_each_categories[c]+=n\r\n",
        "    index = df.index[df[\"Category\"] == c].tolist()\r\n",
        "    number_of_rows = len(index)\r\n",
        "  return df\r\n",
        "      \r\n",
        "\r\n",
        "\r\n",
        "df = information(df)"
      ],
      "execution_count": null,
      "outputs": []
    },
    {
      "cell_type": "code",
      "metadata": {
        "colab": {
          "base_uri": "https://localhost:8080/"
        },
        "id": "jbUbdV9C5RT2",
        "outputId": "74f86dbc-5dfd-48d3-89ce-5c95ae72cef3"
      },
      "source": [
        "x_train = df[\"Text\"]\n",
        "categories = np.array(list(set(df[\"Category\"]))) \n",
        "y_train = df[\"Category\"]\n",
        "y_train_hot = pd.get_dummies(y_train)\n",
        "print(len(y_train))\n",
        "print(len(x_train))\n",
        "print(y_train)"
      ],
      "execution_count": null,
      "outputs": [
        {
          "output_type": "stream",
          "text": [
            "241863\n",
            "241863\n",
            "0              Science and Culture\n",
            "1                            Sport\n",
            "2                          Economy\n",
            "3         Miscellaneous.World News\n",
            "4                            Sport\n",
            "                    ...           \n",
            "241858                Social.Women\n",
            "241859                Social.Women\n",
            "241860                Social.Women\n",
            "241861                Social.Women\n",
            "241862                Social.Women\n",
            "Name: Category, Length: 241863, dtype: object\n"
          ],
          "name": "stdout"
        }
      ]
    },
    {
      "cell_type": "code",
      "metadata": {
        "id": "I5dmM9wV828D",
        "colab": {
          "base_uri": "https://localhost:8080/"
        },
        "outputId": "5cd3baac-201c-4f68-e395-d3d1ae61809d"
      },
      "source": [
        "normalizer = Normalizer()\r\n",
        "stemmer = Stemmer()\r\n",
        "lemmatizer = Lemmatizer()\r\n",
        "\r\n",
        "def preprocessor(doc):\r\n",
        "  norm = normalizer.normalize(doc)\r\n",
        "  norm = re.sub(\"\\d+\", \"\", norm)\r\n",
        "  norm = re.sub(r'\\s*[A-Za-z]+\\b', '' , norm)\r\n",
        "  return norm\r\n",
        "\r\n",
        "#Test\r\n",
        "sample = x_train[0]\r\n",
        "print(sample)\r\n",
        "sample_pre = preprocessor(sample)\r\n",
        "print(sample_pre)"
      ],
      "execution_count": null,
      "outputs": [
        {
          "output_type": "stream",
          "text": [
            "\n",
            "خبرنامه دانشگاه علم و صنعت ايران \n",
            "شماره يازدهم از خبرنامه روابط عمومي دانشگاه علم و صنعت \n",
            "ايران در 48 صفحه با اخبار و مطالب علمي متنوعي از \n",
            "استادان اين دانشگاه منتشر شد. \n",
            "در اين شماره از خبرنامه، علاوه بر اختصاص صفحاتي چند به \n",
            "ديدار رئيس جمهوري از دانشگاه علم و صنعت و سخنراني در \n",
            "جمع دانشجويان اين دانشگاه، دانشكده مهندسي شيمي، \n",
            "پژوهشكده مكانيك خودرو و چند بخش ديگر اين دانشگاه معرفي \n",
            "شده است. \n",
            "تلفن روابط عمومي دانشگاه علم و صنعت ايران 7451180 و \n",
            "نشاني اينترنتي آن به قرار زير است: \n",
            "ir.ac.iust.WWW\n",
            "\n",
            "\n",
            "خبرنامه دانشگاه علم و صنعت ایران \n",
            "شماره یازدهم از خبرنامه روابط عمومی دانشگاه علم و صنعت \n",
            "ایران در  صفحه با اخبار و مطالب علمی متنوعی از \n",
            "استادان این دانشگاه منتشر شد. \n",
            "در این شماره از خبرنامه، علاوه بر اختصاص صفحاتی چند به \n",
            "دیدار رئیس جمهوری از دانشگاه علم و صنعت و سخنرانی در \n",
            "جمع دانشجویان این دانشگاه، دانشکده مهندسی شیمی، \n",
            "پژوهشکده مکانیک خودرو و چند بخش دیگر این دانشگاه معرفی \n",
            "شده است. \n",
            "تلفن روابط عمومی دانشگاه علم و صنعت ایران  و \n",
            "نشانی اینترنتی آن به قرار زیر است:...\n",
            "\n"
          ],
          "name": "stdout"
        }
      ]
    },
    {
      "cell_type": "markdown",
      "metadata": {
        "id": "DqZou59LwhfG"
      },
      "source": [
        "# Tokenize the documents and remove stopwords\r\n",
        "sw = stopwords and special characters\r\n"
      ]
    },
    {
      "cell_type": "code",
      "metadata": {
        "id": "xBcdojqs94pC",
        "colab": {
          "base_uri": "https://localhost:8080/"
        },
        "outputId": "ea2a6eee-5a0d-46a7-c915-fc47f091781d"
      },
      "source": [
        "sw = stopwords()\r\n",
        "def tokenizer(doc):\r\n",
        "  words = word_tokenize(doc)\r\n",
        "  result = [] \r\n",
        "  for w in words:\r\n",
        "    if w in sw :\r\n",
        "      continue\r\n",
        "    result.append(w)\r\n",
        "  return result\r\n",
        "\r\n",
        "#Test\r\n",
        "sample_token = tokenizer(sample_pre)\r\n",
        "print(sample_token)"
      ],
      "execution_count": null,
      "outputs": [
        {
          "output_type": "stream",
          "text": [
            "['خبرنامه', 'دانشگاه', 'علم', 'صنعت', 'ایران', 'شماره', 'یازدهم', 'خبرنامه', 'روابط', 'عمومی', 'دانشگاه', 'علم', 'صنعت', 'ایران', 'صفحه', 'اخبار', 'مطالب', 'علمی', 'متنوعی', 'استادان', 'دانشگاه', 'شماره', 'خبرنامه', 'اختصاص', 'صفحاتی', 'دیدار', 'رئیس', 'جمهوری', 'دانشگاه', 'علم', 'صنعت', 'سخنرانی', 'دانشجویان', 'دانشگاه', 'دانشکده', 'مهندسی', 'شیمی', 'پژوهشکده', 'مکانیک', 'خودرو', 'دانشگاه', 'معرفی', 'تلفن', 'روابط', 'عمومی', 'دانشگاه', 'علم', 'صنعت', 'ایران', 'نشانی', 'اینترنتی']\n"
          ],
          "name": "stdout"
        }
      ]
    },
    {
      "cell_type": "markdown",
      "metadata": {
        "id": "5fsrECRwxLgH"
      },
      "source": [
        "# Extracting the features of each document"
      ]
    },
    {
      "cell_type": "code",
      "metadata": {
        "colab": {
          "base_uri": "https://localhost:8080/",
          "height": 116,
          "referenced_widgets": [
            "4d89cfb566604503b1ef49f9e06c5038",
            "1acc1e0b16e5465790f9086a22ef7cb3",
            "b544380b317e4514b2d819d45cd59c96",
            "93ecaffe561a41f3bdfe6426f1d72496",
            "731c3f20ebc44876a04b8d937a0610d4",
            "c09666f816b643cc999e9e0ba2c882ff",
            "81977f0a87d0432199862d73553c95ff",
            "f9ea85e85db042d0b602d0e9e52355e9"
          ]
        },
        "id": "mVPk2oelOsho",
        "outputId": "3077129c-0ef2-4abd-8345-fcd18f242918"
      },
      "source": [
        "def get_features(input):\r\n",
        "  features = [];\r\n",
        "  for doc in tqdm(input):\r\n",
        "    # doc = input[i]\r\n",
        "    doc = preprocessor(doc)\r\n",
        "    doc = tokenizer(doc)\r\n",
        "    features.append(doc)\r\n",
        "  return features\r\n",
        "\r\n",
        "#Test\r\n",
        "tmp = get_features(x_train[:6])"
      ],
      "execution_count": null,
      "outputs": [
        {
          "output_type": "stream",
          "text": [
            "/usr/local/lib/python3.6/dist-packages/ipykernel_launcher.py:3: TqdmDeprecationWarning: This function will be removed in tqdm==5.0.0\n",
            "Please use `tqdm.notebook.tqdm` instead of `tqdm.tqdm_notebook`\n",
            "  This is separate from the ipykernel package so we can avoid doing imports until\n"
          ],
          "name": "stderr"
        },
        {
          "output_type": "display_data",
          "data": {
            "application/vnd.jupyter.widget-view+json": {
              "model_id": "4d89cfb566604503b1ef49f9e06c5038",
              "version_minor": 0,
              "version_major": 2
            },
            "text/plain": [
              "HBox(children=(FloatProgress(value=0.0, max=6.0), HTML(value='')))"
            ]
          },
          "metadata": {
            "tags": []
          }
        },
        {
          "output_type": "stream",
          "text": [
            "\n"
          ],
          "name": "stdout"
        }
      ]
    },
    {
      "cell_type": "code",
      "metadata": {
        "colab": {
          "base_uri": "https://localhost:8080/",
          "height": 116,
          "referenced_widgets": [
            "28a7a5f322ea4a1b997a5ca4baf528e9",
            "1da767417e15484db708068250a88326",
            "582c5039363442c3809a3035d4d45bc4",
            "bec5cb05b98f49e7a6aa76bd5a1679f7",
            "112f2d3ca52f4ccbaf748664ac90b516",
            "ec62c097bb5a481488849dc94ea4cff0",
            "93c58be34d6c417db787e35c2b6c8068",
            "3c735952a2d346dfa6fe731bdc530fd2"
          ]
        },
        "id": "vXB8585bqpfW",
        "outputId": "a0dde8fd-c1f5-425b-c093-04741f8ce396"
      },
      "source": [
        "x = get_features(x_train)"
      ],
      "execution_count": null,
      "outputs": [
        {
          "output_type": "stream",
          "text": [
            "/usr/local/lib/python3.6/dist-packages/ipykernel_launcher.py:3: TqdmDeprecationWarning: This function will be removed in tqdm==5.0.0\n",
            "Please use `tqdm.notebook.tqdm` instead of `tqdm.tqdm_notebook`\n",
            "  This is separate from the ipykernel package so we can avoid doing imports until\n"
          ],
          "name": "stderr"
        },
        {
          "output_type": "display_data",
          "data": {
            "application/vnd.jupyter.widget-view+json": {
              "model_id": "28a7a5f322ea4a1b997a5ca4baf528e9",
              "version_minor": 0,
              "version_major": 2
            },
            "text/plain": [
              "HBox(children=(FloatProgress(value=0.0, max=241863.0), HTML(value='')))"
            ]
          },
          "metadata": {
            "tags": []
          }
        },
        {
          "output_type": "stream",
          "text": [
            "\n"
          ],
          "name": "stdout"
        }
      ]
    },
    {
      "cell_type": "code",
      "metadata": {
        "colab": {
          "base_uri": "https://localhost:8080/"
        },
        "id": "64nrHXEMqjJv",
        "outputId": "31825672-3c51-487f-867c-4bdff8283263"
      },
      "source": [
        "x[0]"
      ],
      "execution_count": null,
      "outputs": [
        {
          "output_type": "execute_result",
          "data": {
            "text/plain": [
              "['خبرنامه',\n",
              " 'دانشگاه',\n",
              " 'علم',\n",
              " 'صنعت',\n",
              " 'ایران',\n",
              " 'شماره',\n",
              " 'یازدهم',\n",
              " 'خبرنامه',\n",
              " 'روابط',\n",
              " 'عمومی',\n",
              " 'دانشگاه',\n",
              " 'علم',\n",
              " 'صنعت',\n",
              " 'ایران',\n",
              " 'صفحه',\n",
              " 'اخبار',\n",
              " 'مطالب',\n",
              " 'علمی',\n",
              " 'متنوعی',\n",
              " 'استادان',\n",
              " 'دانشگاه',\n",
              " 'شماره',\n",
              " 'خبرنامه',\n",
              " 'اختصاص',\n",
              " 'صفحاتی',\n",
              " 'دیدار',\n",
              " 'رئیس',\n",
              " 'جمهوری',\n",
              " 'دانشگاه',\n",
              " 'علم',\n",
              " 'صنعت',\n",
              " 'سخنرانی',\n",
              " 'دانشجویان',\n",
              " 'دانشگاه',\n",
              " 'دانشکده',\n",
              " 'مهندسی',\n",
              " 'شیمی',\n",
              " 'پژوهشکده',\n",
              " 'مکانیک',\n",
              " 'خودرو',\n",
              " 'دانشگاه',\n",
              " 'معرفی',\n",
              " 'تلفن',\n",
              " 'روابط',\n",
              " 'عمومی',\n",
              " 'دانشگاه',\n",
              " 'علم',\n",
              " 'صنعت',\n",
              " 'ایران',\n",
              " 'نشانی',\n",
              " 'اینترنتی']"
            ]
          },
          "metadata": {
            "tags": []
          },
          "execution_count": 34
        }
      ]
    },
    {
      "cell_type": "markdown",
      "metadata": {
        "id": "aaySe8egxqeF"
      },
      "source": [
        "# Calculating tfidf"
      ]
    },
    {
      "cell_type": "code",
      "metadata": {
        "id": "IzCaM060JKWK"
      },
      "source": [
        "def get_data(doc):\r\n",
        "  # doc = preprocessor(doc)\r\n",
        "  # doc = tokenizer(doc)\r\n",
        "  return doc\r\n",
        "\r\n",
        "tfidf_vectorize = TfidfVectorizer(\r\n",
        "    analyzer='word',\r\n",
        "    tokenizer=get_data,\r\n",
        "    preprocessor=get_data,\r\n",
        "    token_pattern=None,\r\n",
        "    min_df = 20\r\n",
        "    ) "
      ],
      "execution_count": null,
      "outputs": []
    },
    {
      "cell_type": "code",
      "metadata": {
        "id": "Q5-c-NjxJaSx"
      },
      "source": [
        "train_tfidf = tfidf_vectorize.fit_transform(x)"
      ],
      "execution_count": null,
      "outputs": []
    },
    {
      "cell_type": "markdown",
      "metadata": {
        "id": "IhaR8SQ2yL1j"
      },
      "source": [
        "# Preparing the tests"
      ]
    },
    {
      "cell_type": "code",
      "metadata": {
        "id": "ZklJVpJBjkkD"
      },
      "source": [
        "test_df = read_data(test_url)\r\n",
        "x_test = test_df[\"Text\"]"
      ],
      "execution_count": null,
      "outputs": []
    },
    {
      "cell_type": "code",
      "metadata": {
        "id": "YcUP7JmsNtxY",
        "colab": {
          "base_uri": "https://localhost:8080/",
          "height": 116,
          "referenced_widgets": [
            "c578ba386e3345f1bec114e6448315d9",
            "381f7cc7e03041ed9b8c806cd0564aaf",
            "37bf67f0d73045ffb09cc5665bdf8413",
            "1b1b56044d66472c86499d057d728965",
            "a07c90225e694afdacd00af15e9a2826",
            "c9afab21e9524afb90c768dc50012ba0",
            "697b21facc704ad6bd37a1d57d9cc5fd",
            "eebdbaa6344f4bbe880dae5f063132b6"
          ]
        },
        "outputId": "6ea945ae-cd43-4972-f689-7aa86cc97791"
      },
      "source": [
        "test = get_features(x_test)\r\n",
        "test_tfidf = tfidf_vectorize.transform(test)"
      ],
      "execution_count": null,
      "outputs": [
        {
          "output_type": "stream",
          "text": [
            "/usr/local/lib/python3.6/dist-packages/ipykernel_launcher.py:3: TqdmDeprecationWarning: This function will be removed in tqdm==5.0.0\n",
            "Please use `tqdm.notebook.tqdm` instead of `tqdm.tqdm_notebook`\n",
            "  This is separate from the ipykernel package so we can avoid doing imports until\n"
          ],
          "name": "stderr"
        },
        {
          "output_type": "display_data",
          "data": {
            "application/vnd.jupyter.widget-view+json": {
              "model_id": "c578ba386e3345f1bec114e6448315d9",
              "version_minor": 0,
              "version_major": 2
            },
            "text/plain": [
              "HBox(children=(FloatProgress(value=0.0, max=16678.0), HTML(value='')))"
            ]
          },
          "metadata": {
            "tags": []
          }
        },
        {
          "output_type": "stream",
          "text": [
            "\n"
          ],
          "name": "stdout"
        }
      ]
    },
    {
      "cell_type": "code",
      "metadata": {
        "colab": {
          "base_uri": "https://localhost:8080/"
        },
        "id": "FLIbVWevudHC",
        "outputId": "36128fd1-6d07-4db5-fe65-8701296a8f77"
      },
      "source": [
        "print(test[0])"
      ],
      "execution_count": null,
      "outputs": [
        {
          "output_type": "stream",
          "text": [
            "['هفت', 'اقلیم', 'آلودگی', 'هوا', 'پکن', 'تهدید', 'باافزایش', 'آلودگی', 'هوا', 'پکن', 'مقام\\u200cهای', 'محیط', 'زیست', 'دراین', 'شهر', 'تاثیرات', 'آلودگی', 'هوا', 'برانسان', 'هشداردادند', 'گزارش', 'واحدمرکزی', 'خبربنقل', 'شبکه', 'تلویزیونی', 'چین', 'آلودگی', 'هوا', 'درپکن', 'درپی', 'خودروها', 'وتعداد', 'آسمان', 'خراش\\u200cها', 'درپایتخت', 'چین', 'بوقوع', 'پیوسته_است', 'بنابه', 'مقام\\u200cهای', 'محیط', 'زیست', 'درحال', 'حاضر', 'میزان', 'دی', 'اکسید', 'کربن', 'دراین', 'شهر', 'سطح', 'معمولی', 'فراتررفته', 'بطوری', 'سطح', 'شهر', 'تیره', 'وتار', 'تنفس', 'مردم', 'خفه', 'درحال', 'حاضر', 'نرخ', 'سالانه', 'خودرو', 'درپکن', 'درصد', 'ذکرشده', 'تاسال', 'درشهر', 'پکن', 'میلیون', 'وچهارصد', 'خودرو', 'حرکت', 'واین', 'درحالی', 'هرروزهزار', 'خودرو', 'شهرهای', 'پکن', 'تعدادی', 'بعلت', 'فرسوده', 'هوای', 'شهرپکن', 'آلوده', 'بنابه', 'کارشناسان', 'درصد', 'آلودگی', 'هوای', 'شهر', 'پکن', 'ازخودروها', 'معضل', 'شهر', 'پکن', 'سوزاندن', 'زغال', 'سنگ', 'زیرابسیاری', 'شهروندان', 'وکارخانجات', 'واقع', 'درحومه', 'پکن', 'زغال', 'سنگ', 'تولید', 'گرمااستفاده', 'تلاش', 'جانورشناسان', 'وکارشناسان', 'حیات', 'وحش', 'درکنیا', 'گزارش', 'واحدمرکزی', 'خبر', 'نقل', 'شبکه', 'تلویزیونی', 'عمان', 'چهل', 'ازکارشناسان', 'المللی', 'حیات', 'وحش', 'باهمکاری', 'سازمان', 'حفاظت', 'محیط', 'زیست', 'کنیابااستفاده', 'ده', 'فروند', 'هواپیمای', 'موتوره', 'وچندین', 'گروه', 'سیار', 'فعالیت', 'گسترده\\u200cای', 'رابرای', 'شناسایی', 'وشمارش', 'فیلهای', 'کشور', 'باهدف', 'جلوگیری', 'انقراض', 'نسل', 'فیل', 'درافریقا', 'گزارش', 'گروه', 'ثبت', 'ومحل', 'زیست', 'فیلهای', 'موجوددرمنطقه\\u200cای', 'وسعت', 'صدها', 'کیلومترمربع', 'می\\u200cپردازد', 'وطی', 'فعالیت', 'روزه', 'داگلاس', 'همیلتون', 'کارشناس', 'برجسته', 'جانور', 'شناس', 'ارزیابی', 'ذخایر', 'جانور', 'خواهد_پرداخت', 'گزارش', 'حاکیست', 'بعلت', 'کشتارشدید', 'فیلها', 'بخاطر', 'تجارت', 'عاج', 'راس', 'فیل', 'درپارک', 'ملی', 'کنیا', 'باقی', 'مانده_بود', 'اینک', 'همت', 'برنامه', 'حفاظت', 'ذخایر', 'فیل\\u200cها', 'رقم', 'هفت', 'راس', 'گزارش', 'می\\u200cافزاید', 'درراستای', 'شمارش', 'فیلهای', 'کنیا', 'فعالیتهای', 'نیزنظیر', 'ارزیابی', 'ذخایر', 'انواع', 'بزکوهی', 'وبوفالو', 'درپارک', 'ملی', 'کنیا', 'گله\\u200cهای', 'مختلف', 'جانوران', 'همراه', 'مناطق', 'زیست', 'شناسایی', 'خواهند_کرد', 'حیات', 'وحش', 'کوه', 'گیلویه', 'پناه', 'دهید', 'یاسوج', 'خبرنگار', 'همشهری', 'سازمان', 'حفاظت', 'محیط', 'زیست', 'استان', 'کهگیلویه', 'بویراحمد', 'صدور', 'اطلاعیه', 'اهالی', 'استان', 'همکاری', 'طلبیده_است', 'اطلاعیه', 'نزول', 'رحمت', 'الهی', 'بخصوص', 'ریزش', 'برف', 'ارتفاعات', 'پناهنده', 'وحوش', 'پرندگان', 'جوار', 'روستاها', 'شهرها', 'جداول', 'رودخانه\\u200cها', 'گردیده', 'سودجو', 'فرصت', 'طلب', 'شکار', 'گونه\\u200cهای', 'مختلف', 'جانوری', 'کمین', 'نشسته\\u200cاند', 'همکاری', 'ساکنین', 'استان', 'کهگیلویه', 'بویراحمد', 'زمینه', 'رهگشاست', 'اطلاعیه', 'درخواست', 'متخلفین', 'سازمان', 'محیط', 'زیست', 'استان', 'شهرستانهای', 'کهگیلویه', 'گچساران', 'سرمحیطبانی', 'باشت', 'پایگاههای', 'تابعه', 'معرفی']\n"
          ],
          "name": "stdout"
        }
      ]
    },
    {
      "cell_type": "markdown",
      "metadata": {
        "id": "D9TfhoWeyrY8"
      },
      "source": [
        "# Selecting a model to classify "
      ]
    },
    {
      "cell_type": "markdown",
      "metadata": {
        "id": "YvzKEd232PAJ"
      },
      "source": [
        "# Logistic Regression"
      ]
    },
    {
      "cell_type": "code",
      "metadata": {
        "id": "zk8E6twOMo95",
        "colab": {
          "base_uri": "https://localhost:8080/"
        },
        "outputId": "63c08d8d-1d1c-4cf0-ce45-6b1af1afc397"
      },
      "source": [
        "#models\r\n",
        "logistic_regression = Pipeline([\r\n",
        "                               ('clf', linear_model.LogisticRegression(n_jobs=1, C=1e5))\r\n",
        "]);\r\n",
        "# cosine_similarity = (train_tfidf * train_tfidf.T).A\r\n",
        "\r\n",
        "model = logistic_regression.fit(train_tfidf, y_train)       "
      ],
      "execution_count": null,
      "outputs": [
        {
          "output_type": "stream",
          "text": [
            "/usr/local/lib/python3.6/dist-packages/sklearn/linear_model/_logistic.py:940: ConvergenceWarning: lbfgs failed to converge (status=1):\n",
            "STOP: TOTAL NO. of ITERATIONS REACHED LIMIT.\n",
            "\n",
            "Increase the number of iterations (max_iter) or scale the data as shown in:\n",
            "    https://scikit-learn.org/stable/modules/preprocessing.html\n",
            "Please also refer to the documentation for alternative solver options:\n",
            "    https://scikit-learn.org/stable/modules/linear_model.html#logistic-regression\n",
            "  extra_warning_msg=_LOGISTIC_SOLVER_CONVERGENCE_MSG)\n"
          ],
          "name": "stderr"
        }
      ]
    },
    {
      "cell_type": "code",
      "metadata": {
        "id": "shMIy_-jOUxJ"
      },
      "source": [
        "results = model.predict(test_tfidf) \r\n",
        "save_result(results, \"result.csv\")"
      ],
      "execution_count": null,
      "outputs": []
    },
    {
      "cell_type": "markdown",
      "metadata": {
        "id": "Qfg3oXGt2KHH"
      },
      "source": [
        "# LinearSVC"
      ]
    },
    {
      "cell_type": "code",
      "metadata": {
        "id": "xGQMrin41KXM"
      },
      "source": [
        "from sklearn.svm import LinearSVC\r\n",
        "model2 = LinearSVC().fit(train_tfidf, y_train) "
      ],
      "execution_count": null,
      "outputs": []
    },
    {
      "cell_type": "code",
      "metadata": {
        "id": "Wkm9FjaH1Tqy"
      },
      "source": [
        "results2 = model2.predict(test_tfidf) \r\n",
        "save_result(results2, \"result2.csv\")"
      ],
      "execution_count": null,
      "outputs": []
    },
    {
      "cell_type": "markdown",
      "metadata": {
        "id": "tyRH0BSyJZLS"
      },
      "source": [
        "# MultinomialNB"
      ]
    },
    {
      "cell_type": "code",
      "metadata": {
        "id": "8SseVW7M25W_"
      },
      "source": [
        "model1 =  MultinomialNB().fit(train_tfidf, y_train);\r\n",
        "results3 = model2.predict(test_tfidf) \r\n",
        "save_result(results3, \"result3.csv\")"
      ],
      "execution_count": null,
      "outputs": []
    },
    {
      "cell_type": "code",
      "metadata": {
        "id": "5zl7u7_5I8cg"
      },
      "source": [
        ""
      ],
      "execution_count": null,
      "outputs": []
    }
  ]
}